{
 "cells": [
  {
   "cell_type": "markdown",
   "metadata": {
    "slideshow": {
     "slide_type": "slide"
    }
   },
   "source": [
    "## Analyse de sentiments"
   ]
  },
  {
   "cell_type": "markdown",
   "metadata": {
    "slideshow": {
     "slide_type": "fragment"
    }
   },
   "source": [
    "L'analyse de sentiments est une application classique de NLP. Le principe est de prédire les sentiments ou l'émotion contenue dans une phrase ou un texte : est-ce positif ? est-ce négatif ?"
   ]
  },
  {
   "cell_type": "markdown",
   "metadata": {
    "slideshow": {
     "slide_type": "slide"
    }
   },
   "source": [
    "## Polarité et subjectivité"
   ]
  },
  {
   "cell_type": "markdown",
   "metadata": {
    "slideshow": {
     "slide_type": "fragment"
    }
   },
   "source": [
    "L'approche la plus directe est d'essayer de prendre en compte deux aspects :\n",
    "- la polarité des mots, entre -1 et 1\n",
    "- la subjectivité des mots, entre 0 et 1"
   ]
  },
  {
   "cell_type": "markdown",
   "metadata": {
    "slideshow": {
     "slide_type": "subslide"
    }
   },
   "source": [
    "Ces informations, bien que relatives, peuvent être automatiquement calculées à l'aide de TextBlob.\n",
    "\n",
    "TextBlob s'installe de la façon suivante :\n",
    "```\n",
    " conda install -c conda-forge textblob \n",
    "```"
   ]
  },
  {
   "cell_type": "markdown",
   "metadata": {
    "slideshow": {
     "slide_type": "fragment"
    }
   },
   "source": [
    "Il peut ensuite être facilement importé :"
   ]
  },
  {
   "cell_type": "code",
   "execution_count": 2,
   "metadata": {
    "slideshow": {
     "slide_type": "fragment"
    }
   },
   "outputs": [],
   "source": [
    "from textblob import TextBlob"
   ]
  },
  {
   "cell_type": "markdown",
   "metadata": {
    "slideshow": {
     "slide_type": "subslide"
    }
   },
   "source": [
    "Il est ensuite possible de récupérer polarité et subjectivité (sur texte anglais) avec les attributs `.polarity` et `.subjectivity`. Ou même les deux avec `.sentiment` :"
   ]
  },
  {
   "cell_type": "code",
   "execution_count": 3,
   "metadata": {
    "slideshow": {
     "slide_type": "fragment"
    }
   },
   "outputs": [
    {
     "name": "stdout",
     "output_type": "stream",
     "text": [
      "Great:  Sentiment(polarity=0.8, subjectivity=0.75)\n",
      "Greater:  Sentiment(polarity=0.5, subjectivity=0.5)\n",
      "Good:  Sentiment(polarity=0.7, subjectivity=0.6000000000000001)\n",
      "Bad:  Sentiment(polarity=-0.6999999999999998, subjectivity=0.6666666666666666)\n",
      "Terrible:  Sentiment(polarity=-1.0, subjectivity=1.0)\n",
      "Solid:  Sentiment(polarity=0.0, subjectivity=0.1)\n",
      "Maybe:  Sentiment(polarity=0.0, subjectivity=0.0)\n",
      "Chicken:  Sentiment(polarity=-0.6, subjectivity=0.95)\n"
     ]
    }
   ],
   "source": [
    "print('Great: ', TextBlob('Great').sentiment)\n",
    "print('Greater: ', TextBlob('Greater').sentiment)\n",
    "print('Good: ', TextBlob('Good').sentiment)\n",
    "print('Bad: ', TextBlob('Bad').sentiment)\n",
    "print('Terrible: ', TextBlob('Terrible').sentiment)\n",
    "print('Solid: ', TextBlob('Solid').sentiment)\n",
    "print('Maybe: ', TextBlob('Maybe').sentiment)\n",
    "print('Chicken: ', TextBlob('Chicken').sentiment)"
   ]
  },
  {
   "cell_type": "markdown",
   "metadata": {
    "slideshow": {
     "slide_type": "subslide"
    }
   },
   "source": [
    "> Pour du français, voir le [textblob-fr](https://github.com/sloria/textblob-fr), probablement moins performant..."
   ]
  },
  {
   "cell_type": "markdown",
   "metadata": {
    "slideshow": {
     "slide_type": "subslide"
    }
   },
   "source": [
    "Ça fonctionne également sur des phrases complètes, ce qui donne une analyse de sentiment binaire, positif ou négatif par exemple :"
   ]
  },
  {
   "cell_type": "code",
   "execution_count": 4,
   "metadata": {
    "slideshow": {
     "slide_type": "fragment"
    }
   },
   "outputs": [
    {
     "name": "stdout",
     "output_type": "stream",
     "text": [
      "Python: Sentiment(polarity=0.39166666666666666, subjectivity=0.7416666666666667)\n",
      "COBOL: Sentiment(polarity=-0.185, subjectivity=0.63)\n"
     ]
    }
   ],
   "source": [
    "print('Python:', TextBlob('Python is a cool and easy language').sentiment)\n",
    "print('COBOL:', TextBlob('COBOL is a very old and complicated language').sentiment)"
   ]
  },
  {
   "cell_type": "markdown",
   "metadata": {
    "slideshow": {
     "slide_type": "subslide"
    }
   },
   "source": [
    "À partir de ces résultats, on peut simplement appliquer un seuil à `0` :\n",
    "- si la polarité de la phrase est supérieure à 0, le commentaire est positif\n",
    "- sinon, le commentaire est négatif\n",
    "\n",
    "On a donc bien effectué de l'analyse de sentiment, et prédit le caractère positif ou négatif d'un commentaire."
   ]
  },
  {
   "cell_type": "markdown",
   "metadata": {
    "slideshow": {
     "slide_type": "subslide"
    }
   },
   "source": [
    "**Exercice :**\n",
    "\n",
    "Sur le jeu de données `amazon_reviews.csv`, utiliser la polarité pour prédire si la revue est positive ou négative.\n",
    "\n",
    "Calculer l'accuracy de la prédiction.\n",
    "\n",
    "> Aide : le séparateur est `'|'`, l'accuracy peut se calculer à l'aide de `sklearn.metrics.accuracy_score`"
   ]
  },
  {
   "cell_type": "code",
   "execution_count": 5,
   "metadata": {},
   "outputs": [],
   "source": [
    "import pandas as pd\n",
    "\n",
    "df = pd.read_csv('data/amazon_reviews.csv', sep='|')\n"
   ]
  },
  {
   "cell_type": "code",
   "execution_count": null,
   "metadata": {},
   "outputs": [],
   "source": []
  },
  {
   "cell_type": "markdown",
   "metadata": {
    "slideshow": {
     "slide_type": "slide"
    }
   },
   "source": [
    "## Descripteurs et classification"
   ]
  },
  {
   "cell_type": "markdown",
   "metadata": {
    "slideshow": {
     "slide_type": "fragment"
    }
   },
   "source": [
    "Une autre méthode pour effectuer de l'analyse de sentiments, c'est d'utiliser les descripteurs, associés à des algorithmes de classification :\n",
    "- une première étape de preprocessing et calcul des descripteurs (BOW ou TF-IDF par exemple)\n",
    "- une classification binaire sur ces descripteurs\n",
    "- éventuellement une optimisation des hyperparamètres"
   ]
  },
  {
   "cell_type": "markdown",
   "metadata": {
    "slideshow": {
     "slide_type": "subslide"
    }
   },
   "source": [
    "### Calcul du TF-IDF"
   ]
  },
  {
   "cell_type": "markdown",
   "metadata": {
    "slideshow": {
     "slide_type": "fragment"
    }
   },
   "source": [
    "La première étape est donc le calcul du TF-IDF :"
   ]
  },
  {
   "cell_type": "code",
   "execution_count": 6,
   "metadata": {
    "slideshow": {
     "slide_type": "fragment"
    }
   },
   "outputs": [],
   "source": [
    "from sklearn.feature_extraction.text import TfidfVectorizer\n",
    "from nltk.corpus import stopwords\n",
    "\n",
    "stops = stopwords.words('english')\n",
    "\n",
    "vectorizer = TfidfVectorizer(stop_words=stops)\n",
    "\n",
    "# Calcul du TF-IDF des review amazon\n",
    "tfidf = vectorizer.fit_transform(df['review']).toarray()"
   ]
  },
  {
   "cell_type": "markdown",
   "metadata": {
    "slideshow": {
     "slide_type": "subslide"
    }
   },
   "source": [
    "### Application d'un modèle de classification simple : Naive Bayes et Régression Logistique"
   ]
  },
  {
   "cell_type": "markdown",
   "metadata": {
    "slideshow": {
     "slide_type": "fragment"
    }
   },
   "source": [
    "Nous allons maintenant appliquer deux modèles de Machine Learning classique : le Naive Bayes et la Régression logistique.\n",
    "\n",
    "Ces derniers sont implémentés dans scikit-learn et peuvent être importés comme tel :\n",
    "```python\n",
    "from sklearn.naive_bayes import GaussianNB\n",
    "from sklearn.linear_model import LogisticRegression\n",
    "```"
   ]
  },
  {
   "cell_type": "markdown",
   "metadata": {
    "slideshow": {
     "slide_type": "subslide"
    }
   },
   "source": [
    "Avant cela, il faut séparer les données en deux groupes :\n",
    "- le groupe `train` sur lequel sera entrainé le modèle : il représente en général 80 % des données\n",
    "- le groupe `test` sur lequel sera évalué le modèle : il représente en général 20 % des données\n",
    "\n",
    "Ce découpage peut se faire automatiquement à l'aide de la fonction `train_test_split` de scikit-learn :\n",
    "```python \n",
    "from sklearn.model_selection import train_test_split\n",
    "```"
   ]
  },
  {
   "cell_type": "code",
   "execution_count": 7,
   "metadata": {
    "slideshow": {
     "slide_type": "fragment"
    }
   },
   "outputs": [],
   "source": [
    "from sklearn.model_selection import train_test_split\n",
    "\n",
    "X_train, X_test, y_train, y_test = train_test_split(tfidf, df['class'], test_size=0.2, random_state=0)"
   ]
  },
  {
   "cell_type": "markdown",
   "metadata": {
    "slideshow": {
     "slide_type": "subslide"
    }
   },
   "source": [
    "Il faut ensuite instancier puis entrainer le modèle sur le jeu `train`, à l'aide de la méthode `.fit()` :"
   ]
  },
  {
   "cell_type": "code",
   "execution_count": 8,
   "metadata": {
    "slideshow": {
     "slide_type": "fragment"
    }
   },
   "outputs": [
    {
     "data": {
      "text/plain": [
       "LogisticRegression()"
      ]
     },
     "execution_count": 8,
     "metadata": {},
     "output_type": "execute_result"
    }
   ],
   "source": [
    "from sklearn.naive_bayes import GaussianNB\n",
    "from sklearn.linear_model import LogisticRegression\n",
    "\n",
    "# On instancie les modèles\n",
    "nb = GaussianNB()\n",
    "lr = LogisticRegression()\n",
    "\n",
    "# On entraine les modèles\n",
    "nb.fit(X_train, y_train)\n",
    "lr.fit(X_train, y_train)"
   ]
  },
  {
   "cell_type": "markdown",
   "metadata": {
    "slideshow": {
     "slide_type": "subslide"
    }
   },
   "source": [
    "Enfin, il est possible de prédire les résultats sur la partie `test` à l'aide de la méthode `.predict()`. Puis on peut finalement évaluer les performances de notre modèle, avec une métrique telle que l'`accuracy_score` :"
   ]
  },
  {
   "cell_type": "code",
   "execution_count": 9,
   "metadata": {
    "slideshow": {
     "slide_type": "fragment"
    }
   },
   "outputs": [
    {
     "name": "stdout",
     "output_type": "stream",
     "text": [
      "accuracy du modèle Naive Bayes : 0.5895\n",
      "accuracy du modèle Logistic Regression : 0.859\n"
     ]
    }
   ],
   "source": [
    "from sklearn.metrics import accuracy_score\n",
    "\n",
    "pred_nb = nb.predict(X_test)\n",
    "pred_lr = lr.predict(X_test)\n",
    "\n",
    "print('accuracy du modèle Naive Bayes :', accuracy_score(y_test, pred_nb))\n",
    "print('accuracy du modèle Logistic Regression :', accuracy_score(y_test, pred_lr))"
   ]
  },
  {
   "cell_type": "markdown",
   "metadata": {
    "slideshow": {
     "slide_type": "fragment"
    }
   },
   "source": [
    "Que pensez-vous de ces résultats, en comparaison avec l'utilisation de la polarité des mots ?"
   ]
  },
  {
   "cell_type": "markdown",
   "metadata": {
    "slideshow": {
     "slide_type": "subslide"
    }
   },
   "source": [
    "**Exercice :**\n",
    "\n",
    "Effectuer une analyse de sentiments par classification binaire sur le jeu de données `IMDB_dataset.csv` :\n",
    "- D'abord faire une extraction de descripteurs (BOW et/ou TF-IDF)\n",
    "- Séparer les données\n",
    "- Entrainer un modèle de classification binaire (e.g. LogisticRegression, SVM, RandomForestClassifier...)\n",
    "- Evaluer les performances du modèle sélectionné"
   ]
  },
  {
   "cell_type": "code",
   "execution_count": 10,
   "metadata": {},
   "outputs": [
    {
     "data": {
      "text/html": [
       "<div>\n",
       "<style scoped>\n",
       "    .dataframe tbody tr th:only-of-type {\n",
       "        vertical-align: middle;\n",
       "    }\n",
       "\n",
       "    .dataframe tbody tr th {\n",
       "        vertical-align: top;\n",
       "    }\n",
       "\n",
       "    .dataframe thead th {\n",
       "        text-align: right;\n",
       "    }\n",
       "</style>\n",
       "<table border=\"1\" class=\"dataframe\">\n",
       "  <thead>\n",
       "    <tr style=\"text-align: right;\">\n",
       "      <th></th>\n",
       "      <th>review</th>\n",
       "      <th>sentiment</th>\n",
       "      <th>class</th>\n",
       "    </tr>\n",
       "  </thead>\n",
       "  <tbody>\n",
       "    <tr>\n",
       "      <th>0</th>\n",
       "      <td>One of the other reviewers has mentioned that ...</td>\n",
       "      <td>positive</td>\n",
       "      <td>1</td>\n",
       "    </tr>\n",
       "    <tr>\n",
       "      <th>1</th>\n",
       "      <td>A wonderful little production. &lt;br /&gt;&lt;br /&gt;The...</td>\n",
       "      <td>positive</td>\n",
       "      <td>1</td>\n",
       "    </tr>\n",
       "    <tr>\n",
       "      <th>2</th>\n",
       "      <td>I thought this was a wonderful way to spend ti...</td>\n",
       "      <td>positive</td>\n",
       "      <td>1</td>\n",
       "    </tr>\n",
       "    <tr>\n",
       "      <th>3</th>\n",
       "      <td>Basically there's a family where a little boy ...</td>\n",
       "      <td>negative</td>\n",
       "      <td>0</td>\n",
       "    </tr>\n",
       "    <tr>\n",
       "      <th>4</th>\n",
       "      <td>Petter Mattei's \"Love in the Time of Money\" is...</td>\n",
       "      <td>positive</td>\n",
       "      <td>1</td>\n",
       "    </tr>\n",
       "  </tbody>\n",
       "</table>\n",
       "</div>"
      ],
      "text/plain": [
       "                                              review sentiment  class\n",
       "0  One of the other reviewers has mentioned that ...  positive      1\n",
       "1  A wonderful little production. <br /><br />The...  positive      1\n",
       "2  I thought this was a wonderful way to spend ti...  positive      1\n",
       "3  Basically there's a family where a little boy ...  negative      0\n",
       "4  Petter Mattei's \"Love in the Time of Money\" is...  positive      1"
      ]
     },
     "execution_count": 10,
     "metadata": {},
     "output_type": "execute_result"
    }
   ],
   "source": [
    "df = pd.read_csv('data/IMDB_dataset.csv')\n",
    "df['class'] = (df['sentiment']=='positive').astype(int)\n",
    "df.head()"
   ]
  },
  {
   "cell_type": "code",
   "execution_count": null,
   "metadata": {},
   "outputs": [],
   "source": []
  }
 ],
 "metadata": {
  "celltoolbar": "Slideshow",
  "kernelspec": {
   "display_name": "Python 3",
   "language": "python",
   "name": "python3"
  },
  "language_info": {
   "codemirror_mode": {
    "name": "ipython",
    "version": 3
   },
   "file_extension": ".py",
   "mimetype": "text/x-python",
   "name": "python",
   "nbconvert_exporter": "python",
   "pygments_lexer": "ipython3",
   "version": "3.7.7"
  }
 },
 "nbformat": 4,
 "nbformat_minor": 4
}
